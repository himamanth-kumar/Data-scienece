{
 "cells": [
  {
   "cell_type": "code",
   "execution_count": 2,
   "metadata": {},
   "outputs": [],
   "source": [
    "import numpy as np"
   ]
  },
  {
   "cell_type": "code",
   "execution_count": 3,
   "metadata": {},
   "outputs": [
    {
     "name": "stdout",
     "output_type": "stream",
     "text": [
      "[ 10  15  20  25  30  35  40  45  50  55  60  65  70  75  80  85  90  95\n",
      " 100]\n"
     ]
    }
   ],
   "source": [
    "ar=np.arange(10,101,5)\n",
    "print(ar)"
   ]
  },
  {
   "cell_type": "code",
   "execution_count": 4,
   "metadata": {},
   "outputs": [
    {
     "name": "stdout",
     "output_type": "stream",
     "text": [
      "[[0.37393822 0.18836449 0.0992363  0.86577713 0.77153882]\n",
      " [0.99613294 0.25538123 0.71586827 0.59372845 0.2968425 ]\n",
      " [0.07864402 0.25272171 0.17064579 0.37652099 0.9402804 ]\n",
      " [0.27934417 0.15527483 0.03396731 0.96089401 0.78218206]\n",
      " [0.10162495 0.90221916 0.57868178 0.22890958 0.68425143]]\n"
     ]
    }
   ],
   "source": [
    "matrix = np.random.rand(5, 5)\n",
    "print(matrix)\n"
   ]
  },
  {
   "cell_type": "code",
   "execution_count": 5,
   "metadata": {},
   "outputs": [
    {
     "name": "stdout",
     "output_type": "stream",
     "text": [
      "[0. 0. 0. 0. 1. 0. 0. 0. 0. 0.]\n"
     ]
    }
   ],
   "source": [
    "z=np.zeros(10)\n",
    "z[4]=1\n",
    "print(z)"
   ]
  },
  {
   "cell_type": "code",
   "execution_count": 18,
   "metadata": {},
   "outputs": [
    {
     "name": "stdout",
     "output_type": "stream",
     "text": [
      "[1. 1. 1. 1. 1. 1. 7. 1. 1. 1. 1. 1. 1. 1. 1.]\n"
     ]
    }
   ],
   "source": [
    "z1=np.ones(15)\n",
    "z1[6]=7\n",
    "print(z1)"
   ]
  },
  {
   "cell_type": "code",
   "execution_count": 6,
   "metadata": {},
   "outputs": [
    {
     "name": "stdout",
     "output_type": "stream",
     "text": [
      "[[1. 0. 0. 0.]\n",
      " [0. 1. 0. 0.]\n",
      " [0. 0. 1. 0.]\n",
      " [0. 0. 0. 1.]]\n"
     ]
    }
   ],
   "source": [
    "iden=np.eye(4)\n",
    "print(iden)"
   ]
  },
  {
   "cell_type": "code",
   "execution_count": null,
   "metadata": {},
   "outputs": [
    {
     "name": "stdout",
     "output_type": "stream",
     "text": [
      "[[[11 46 29]\n",
      "  [18 39 46]\n",
      "  [41 32 16]]\n",
      "\n",
      " [[22 29  8]\n",
      "  [43 22 44]\n",
      "  [ 6  2  8]]\n",
      "\n",
      " [[42 25 15]\n",
      "  [40 38 20]\n",
      "  [48 25 14]]]\n",
      "<class 'numpy.ndarray'>\n"
     ]
    }
   ],
   "source": [
    "randam=np.random.randint(1,51,(3,3,3))\n",
    "print(randam)\n",
    "\n",
    "\n",
    "print(type(randam))"
   ]
  },
  {
   "cell_type": "code",
   "execution_count": 12,
   "metadata": {},
   "outputs": [
    {
     "name": "stdout",
     "output_type": "stream",
     "text": [
      "[37 39 50 50 33 50 50 50 50 50 50 35 50 39 50 50 50 50 32 50 50 50 50 50\n",
      " 50 33 50 50 50 35 50 50 50 50 50 50 50 50 50 50 50 50 50 42 37 50 50 33\n",
      " 41 50 50 40 50 50 50 50 50 50 43 50 50 42 50 50 50 44 50 50 50 33 50 50\n",
      " 40 50 50 32 50 45 50 50 50 50 50 50 50 50 50 50 50 50 50 50 50 50 50 50\n",
      " 39 50 50 32 50 50 50 50 50 50 50 50 50 39]\n"
     ]
    }
   ],
   "source": [
    "arr1=np.random.randint(30,120,110)\n",
    "arr1[arr1>50]=50\n",
    "print(arr1)"
   ]
  },
  {
   "cell_type": "code",
   "execution_count": 28,
   "metadata": {},
   "outputs": [
    {
     "name": "stdout",
     "output_type": "stream",
     "text": [
      "[ 7 55  7 19  7 18  7 56  7 21 43  7  7 12 38 33]\n"
     ]
    }
   ],
   "source": [
    "arr2=np.random.randint(10,120,16)\n",
    "arr2[arr2>60]=7\n",
    "print(arr2)"
   ]
  },
  {
   "cell_type": "markdown",
   "metadata": {},
   "source": [
    "##### Find the indices of all nonzero elements in a given array?.\n"
   ]
  },
  {
   "cell_type": "code",
   "execution_count": 29,
   "metadata": {},
   "outputs": [
    {
     "name": "stdout",
     "output_type": "stream",
     "text": [
      "(array([1, 3, 5]),)\n"
     ]
    }
   ],
   "source": [
    "arr = np.array([0, 4, 0, 7, 0, 9])\n",
    "indices = np.nonzero(arr)\n",
    "print(indices)"
   ]
  },
  {
   "cell_type": "markdown",
   "metadata": {},
   "source": [
    "##### Normalize an array (scale values between 0 and 1)?"
   ]
  },
  {
   "cell_type": "code",
   "execution_count": 30,
   "metadata": {},
   "outputs": [
    {
     "name": "stdout",
     "output_type": "stream",
     "text": [
      "[1.         0.88888889 0.25       0.26388889 0.23611111 0.\n",
      " 0.18055556 0.5        0.77777778 0.86111111]\n"
     ]
    }
   ],
   "source": [
    "arr = np.random.randint(10, 100, 10)\n",
    "normalized_arr = (arr - np.min(arr)) / (np.max(arr) - np.min(arr))\n",
    "print(normalized_arr)"
   ]
  },
  {
   "cell_type": "code",
   "execution_count": 31,
   "metadata": {},
   "outputs": [
    {
     "name": "stdout",
     "output_type": "stream",
     "text": [
      "[ -9.33333333 -17.33333333 -63.33333333 -62.33333333 -64.33333333\n",
      " -81.33333333 -68.33333333 -45.33333333 -25.33333333 -19.33333333]\n"
     ]
    }
   ],
   "source": [
    "arr4=np.random.randint(10,100,10)\n",
    "normalized_arr1=arr-np.min(arr4)/np.max(arr4)-np.max(arr4)\n",
    "print(normalized_arr1)"
   ]
  },
  {
   "cell_type": "code",
   "execution_count": 33,
   "metadata": {},
   "outputs": [
    {
     "name": "stdout",
     "output_type": "stream",
     "text": [
      "[[8200 7134 6946 7432]\n",
      " [6712 6232 5880 6380]\n",
      " [9754 8519 8297 8927]\n",
      " [5300 4092 4414 4642]]\n"
     ]
    }
   ],
   "source": [
    "a= np.random.randint(10,40,(4,4))\n",
    "b= np.random.randint(40,80,(4,4))\n",
    "n= np.dot(a,b)\n",
    "print(n)"
   ]
  },
  {
   "cell_type": "markdown",
   "metadata": {},
   "source": [
    "Simulate 1000 coin flips and count the number of heads (assuming 1 = heads, 0 = tails)?"
   ]
  },
  {
   "cell_type": "code",
   "execution_count": 34,
   "metadata": {},
   "outputs": [
    {
     "name": "stdout",
     "output_type": "stream",
     "text": [
      "Heads Count: 496\n"
     ]
    }
   ],
   "source": [
    "flips = np.random.randint(0, 2, 1000)\n",
    "num_heads = np.sum(flips)\n",
    "print(f\"Heads Count: {num_heads}\")"
   ]
  },
  {
   "cell_type": "code",
   "execution_count": 37,
   "metadata": {},
   "outputs": [
    {
     "name": "stdout",
     "output_type": "stream",
     "text": [
      "496\n"
     ]
    }
   ],
   "source": [
    "fipl=np.random.randint(0,1,1000)\n",
    "head=np.sum(flips)\n",
    "print(head)"
   ]
  }
 ],
 "metadata": {
  "kernelspec": {
   "display_name": "Python 3",
   "language": "python",
   "name": "python3"
  },
  "language_info": {
   "codemirror_mode": {
    "name": "ipython",
    "version": 3
   },
   "file_extension": ".py",
   "mimetype": "text/x-python",
   "name": "python",
   "nbconvert_exporter": "python",
   "pygments_lexer": "ipython3",
   "version": "3.13.2"
  }
 },
 "nbformat": 4,
 "nbformat_minor": 2
}
