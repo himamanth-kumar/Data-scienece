{
 "cells": [
  {
   "cell_type": "code",
   "execution_count": 2,
   "metadata": {},
   "outputs": [
    {
     "name": "stdout",
     "output_type": "stream",
     "text": [
      "<class 'list'>\n"
     ]
    }
   ],
   "source": [
    "lst =[]\n",
    "print(type(lst))\n",
    "\n"
   ]
  },
  {
   "cell_type": "code",
   "execution_count": null,
   "metadata": {},
   "outputs": [],
   "source": [
    "list."
   ]
  },
  {
   "cell_type": "code",
   "execution_count": 6,
   "metadata": {},
   "outputs": [
    {
     "name": "stdout",
     "output_type": "stream",
     "text": [
      "['Himamanth', 'King', 'Dhoni', 'Demo', 'Pspk', 'Jhonny Depp']\n"
     ]
    }
   ],
   "source": [
    "names=[\"Himamanth\",\"King\",\"Dhoni\",\"Demo\",\"Pspk\",\"Jhonny Depp\"]\n",
    "print(names)"
   ]
  },
  {
   "cell_type": "markdown",
   "metadata": {},
   "source": [
    "In below code -::-1 gives list items in reverse\n",
    "               ::-2 gives rev jump of 2  "
   ]
  },
  {
   "cell_type": "code",
   "execution_count": 8,
   "metadata": {},
   "outputs": [
    {
     "name": "stdout",
     "output_type": "stream",
     "text": [
      "['Jhonny Depp', 'Pspk', 'Demo', 'Dhoni', 'King', 'Himamanth']\n",
      "['Jhonny Depp', 'Demo', 'King']\n"
     ]
    }
   ],
   "source": [
    "print(names[::-1])\n",
    "print(names[::-2])"
   ]
  },
  {
   "cell_type": "code",
   "execution_count": 5,
   "metadata": {},
   "outputs": [
    {
     "name": "stdout",
     "output_type": "stream",
     "text": [
      "Himamanth\n",
      "King\n"
     ]
    }
   ],
   "source": [
    "print(names[0])\n",
    "print(names[1])"
   ]
  },
  {
   "cell_type": "code",
   "execution_count": 10,
   "metadata": {},
   "outputs": [
    {
     "name": "stdout",
     "output_type": "stream",
     "text": [
      "['Demo', 'Dhoni', 'Himamanth', 'Jhonny Depp', 'King', 'Pspk']\n"
     ]
    }
   ],
   "source": [
    "names.sort()\n",
    "print(names)"
   ]
  },
  {
   "cell_type": "code",
   "execution_count": 16,
   "metadata": {},
   "outputs": [
    {
     "name": "stdout",
     "output_type": "stream",
     "text": [
      "Dhoni\n",
      "['Demo']\n"
     ]
    }
   ],
   "source": [
    "popped_names=names.pop()\n",
    "print(popped_names)\n",
    "print(names)"
   ]
  },
  {
   "cell_type": "code",
   "execution_count": 26,
   "metadata": {},
   "outputs": [
    {
     "name": "stdout",
     "output_type": "stream",
     "text": [
      "[1, 4, 9, 16, 25, 36, 49, 64, 81]\n",
      "[0, 1, 4, 9, 16, 25, 36, 49, 64, 81]\n"
     ]
    }
   ],
   "source": [
    "# list Comprehension\n",
    "x=[x**2 for x in range(1,10)]\n",
    "print(x)\n",
    "\n",
    "\n",
    "y=[y**2 for y in range(10)]\n",
    "print(y)"
   ]
  },
  {
   "cell_type": "markdown",
   "metadata": {},
   "source": [
    "<!-- noraml syntax for LIST comprehension -->\n",
    "syntax ==[Expression for item(any x,y) in iterable(datatype)]\n",
    "\n",
    "<!-- with Condition -->\n",
    "syntax ==[Expression for item(any x,y) in iterable(datatype) if condition]\n",
    "\n",
    "<!-- Nested list -->\n",
    "syntax ==[Expression for item(any x,y) in item(x) iterable1(datatype)item(x) iterable2]\n",
    "\n"
   ]
  },
  {
   "cell_type": "code",
   "execution_count": 18,
   "metadata": {},
   "outputs": [
    {
     "name": "stdout",
     "output_type": "stream",
     "text": [
      "[0, 1, 4, 9, 16, 25, 36, 49, 64, 81]\n"
     ]
    }
   ],
   "source": [
    "# Normal flow without list comprehension\n",
    "lst=[]\n",
    "for x in range(10):\n",
    "    lst.append(x**2)\n",
    "print(lst)    "
   ]
  },
  {
   "cell_type": "code",
   "execution_count": 21,
   "metadata": {},
   "outputs": [
    {
     "name": "stdout",
     "output_type": "stream",
     "text": [
      "[0, 2, 4, 6, 8]\n"
     ]
    }
   ],
   "source": [
    "even_Numbers=[num for num in range(10) if (num%2==0)]\n",
    "print(even_Numbers)"
   ]
  },
  {
   "cell_type": "code",
   "execution_count": 3,
   "metadata": {},
   "outputs": [
    {
     "name": "stdout",
     "output_type": "stream",
     "text": [
      "<class 'tuple'>\n"
     ]
    }
   ],
   "source": [
    "numbers=tuple([1,2,2,3,4,5,6])\n",
    "numbers\n",
    "print(type(numbers))"
   ]
  },
  {
   "cell_type": "code",
   "execution_count": null,
   "metadata": {},
   "outputs": [],
   "source": []
  },
  {
   "cell_type": "code",
   "execution_count": null,
   "metadata": {},
   "outputs": [],
   "source": []
  },
  {
   "cell_type": "code",
   "execution_count": null,
   "metadata": {},
   "outputs": [],
   "source": []
  }
 ],
 "metadata": {
  "kernelspec": {
   "display_name": "Python 3",
   "language": "python",
   "name": "python3"
  },
  "language_info": {
   "codemirror_mode": {
    "name": "ipython",
    "version": 3
   },
   "file_extension": ".py",
   "mimetype": "text/x-python",
   "name": "python",
   "nbconvert_exporter": "python",
   "pygments_lexer": "ipython3",
   "version": "3.13.2"
  }
 },
 "nbformat": 4,
 "nbformat_minor": 2
}
