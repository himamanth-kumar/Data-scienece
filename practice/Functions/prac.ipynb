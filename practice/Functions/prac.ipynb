{
 "cells": [
  {
   "cell_type": "code",
   "execution_count": 1,
   "metadata": {},
   "outputs": [],
   "source": [
    "import numpy as np"
   ]
  },
  {
   "cell_type": "code",
   "execution_count": 11,
   "metadata": {},
   "outputs": [
    {
     "name": "stdout",
     "output_type": "stream",
     "text": [
      "1 4 9 16 25 36 49 64 81 100\n"
     ]
    }
   ],
   "source": [
    "num = np.arange(1,11)\n",
    "sqrtt=list(map(lambda x:x**2,num))\n",
    "print(*sqrtt)"
   ]
  },
  {
   "cell_type": "code",
   "execution_count": 9,
   "metadata": {},
   "outputs": [
    {
     "name": "stdout",
     "output_type": "stream",
     "text": [
      "[(1, 2, 3, 4)]\n",
      "<class 'tuple'>\n"
     ]
    }
   ],
   "source": [
    "num=1,2,3,4\n",
    "print([num])\n",
    "print(type(num))\n"
   ]
  },
  {
   "cell_type": "code",
   "execution_count": 19,
   "metadata": {},
   "outputs": [
    {
     "name": "stdout",
     "output_type": "stream",
     "text": [
      "4\n"
     ]
    }
   ],
   "source": [
    "def multiply(x):\n",
    "    return lambda y: lambda z: ((x*y*z)-12)\n",
    "resul=multiply(2)(4)(2)\n",
    "print(resul)"
   ]
  },
  {
   "cell_type": "code",
   "execution_count": 3,
   "metadata": {},
   "outputs": [
    {
     "name": "stdout",
     "output_type": "stream",
     "text": [
      "25\n"
     ]
    }
   ],
   "source": [
    "def apply_fun(func,val):\n",
    "    return func(val)\n",
    "def sqrr(x):\n",
    "    return x*x\n",
    "\n",
    "print(apply_fun(sqrr,5))\n"
   ]
  },
  {
   "cell_type": "code",
   "execution_count": 6,
   "metadata": {},
   "outputs": [
    {
     "name": "stdout",
     "output_type": "stream",
     "text": [
      "343\n"
     ]
    }
   ],
   "source": [
    "sqrr= lambda x:x**3\n",
    "print(sqrr(7))"
   ]
  },
  {
   "cell_type": "code",
   "execution_count": 7,
   "metadata": {},
   "outputs": [
    {
     "name": "stdout",
     "output_type": "stream",
     "text": [
      "25\n"
     ]
    }
   ],
   "source": [
    "def apply(func, x): # higher order function\n",
    "    return func(x)\n",
    "\n",
    "def square(n): # function to be passed\n",
    "    return n * n\n",
    "\n",
    "print(apply(square, 5))"
   ]
  },
  {
   "cell_type": "code",
   "execution_count": 8,
   "metadata": {},
   "outputs": [
    {
     "ename": "UnboundLocalError",
     "evalue": "cannot access local variable 'x' where it is not associated with a value",
     "output_type": "error",
     "traceback": [
      "\u001b[1;31m---------------------------------------------------------------------------\u001b[0m",
      "\u001b[1;31mUnboundLocalError\u001b[0m                         Traceback (most recent call last)",
      "Cell \u001b[1;32mIn[8], line 6\u001b[0m\n\u001b[0;32m      3\u001b[0m \u001b[38;5;28;01mdef\u001b[39;00m\u001b[38;5;250m \u001b[39m\u001b[38;5;21mchange_x\u001b[39m():\n\u001b[0;32m      4\u001b[0m     x \u001b[38;5;241m=\u001b[39m x \u001b[38;5;241m+\u001b[39m \u001b[38;5;241m5\u001b[39m  \u001b[38;5;66;03m# ❌ UnboundLocalError: local variable 'x' referenced before assignment\u001b[39;00m\n\u001b[1;32m----> 6\u001b[0m \u001b[43mchange_x\u001b[49m\u001b[43m(\u001b[49m\u001b[43m)\u001b[49m\n",
      "Cell \u001b[1;32mIn[8], line 4\u001b[0m, in \u001b[0;36mchange_x\u001b[1;34m()\u001b[0m\n\u001b[0;32m      3\u001b[0m \u001b[38;5;28;01mdef\u001b[39;00m\u001b[38;5;250m \u001b[39m\u001b[38;5;21mchange_x\u001b[39m():\n\u001b[1;32m----> 4\u001b[0m     x \u001b[38;5;241m=\u001b[39m \u001b[43mx\u001b[49m \u001b[38;5;241m+\u001b[39m \u001b[38;5;241m5\u001b[39m\n",
      "\u001b[1;31mUnboundLocalError\u001b[0m: cannot access local variable 'x' where it is not associated with a value"
     ]
    }
   ],
   "source": [
    "x = 10  # Global variable\n",
    "\n",
    "def change_x():\n",
    "    x = x + 5  # ❌ UnboundLocalError: local variable 'x' referenced before assignment\n",
    "\n",
    "change_x()\n"
   ]
  },
  {
   "cell_type": "code",
   "execution_count": 9,
   "metadata": {},
   "outputs": [
    {
     "name": "stdout",
     "output_type": "stream",
     "text": [
      "15\n"
     ]
    }
   ],
   "source": [
    "x = 10\n",
    "\n",
    "def change_x():\n",
    "    global x  # Declare x as global\n",
    "    x = x + 5  \n",
    "\n",
    "change_x()\n",
    "print(x)  # ✅ Output: 15\n"
   ]
  },
  {
   "cell_type": "code",
   "execution_count": 10,
   "metadata": {},
   "outputs": [
    {
     "name": "stdout",
     "output_type": "stream",
     "text": [
      "20\n"
     ]
    }
   ],
   "source": [
    "y = 20  # Global variable\n",
    "\n",
    "def change_y():\n",
    "    y = 50  # ❌ This creates a new local variable, doesn't change the global y\n",
    "\n",
    "change_y()\n",
    "print(y)  # ✅ Output: 20 (Global variable remains unchanged)\n"
   ]
  },
  {
   "cell_type": "code",
   "execution_count": 11,
   "metadata": {},
   "outputs": [
    {
     "name": "stdout",
     "output_type": "stream",
     "text": [
      "50\n"
     ]
    }
   ],
   "source": [
    "y = 20\n",
    "\n",
    "def change_y():\n",
    "    global y\n",
    "    y = 50  # ✅ Now it modifies the global variable\n",
    "\n",
    "change_y()\n",
    "print(y)  # ✅ Output: 50\n"
   ]
  },
  {
   "cell_type": "code",
   "execution_count": 13,
   "metadata": {},
   "outputs": [
    {
     "name": "stdout",
     "output_type": "stream",
     "text": [
      "Thread Thread1: 0\n",
      "Thread Thread1: 1\n",
      "Thread Thread1: 2\n",
      "Thread Thread1: 3\n",
      "Thread Thread1: 4\n",
      "Thread Thread2: 0\n",
      "Thread Thread2: 1\n",
      "Thread Thread2: 2\n",
      "Thread Thread2: 3\n",
      "Thread Thread2: 4\n"
     ]
    }
   ],
   "source": [
    "import threading\n",
    "\n",
    "def print_numbers():\n",
    "    for i in range(5):\n",
    "        print(f\"Thread {threading.current_thread().name}: {i}\")\n",
    "\n",
    "# Creating two threads\n",
    "thread1 = threading.Thread(target=print_numbers, name=\"Thread1\")\n",
    "thread2 = threading.Thread(target=print_numbers, name=\"Thread2\")\n",
    "\n",
    "# Starting the threads\n",
    "thread1.start()\n",
    "thread2.start()\n",
    "\n",
    "thread1.join()\n",
    "thread2.join()\n"
   ]
  }
 ],
 "metadata": {
  "kernelspec": {
   "display_name": "Python 3",
   "language": "python",
   "name": "python3"
  },
  "language_info": {
   "codemirror_mode": {
    "name": "ipython",
    "version": 3
   },
   "file_extension": ".py",
   "mimetype": "text/x-python",
   "name": "python",
   "nbconvert_exporter": "python",
   "pygments_lexer": "ipython3",
   "version": "3.13.0"
  }
 },
 "nbformat": 4,
 "nbformat_minor": 2
}
